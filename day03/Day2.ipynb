{
 "cells": [
  {
   "cell_type": "code",
   "execution_count": 1,
   "id": "36202e7c-602b-43e4-98c7-3496d5d657b7",
   "metadata": {},
   "outputs": [],
   "source": [
    "## Assignment 3\n",
    "\n",
    "# Get the user to input the values."
   ]
  },
  {
   "cell_type": "code",
   "execution_count": 2,
   "id": "c08fdbb6-341c-49f9-8205-dd2a53906f6d",
   "metadata": {},
   "outputs": [
    {
     "name": "stdout",
     "output_type": "stream",
     "text": [
      "Choose width:\n"
     ]
    },
    {
     "name": "stdin",
     "output_type": "stream",
     "text": [
      " 7\n"
     ]
    },
    {
     "name": "stdout",
     "output_type": "stream",
     "text": [
      "Choose length:\n"
     ]
    },
    {
     "name": "stdin",
     "output_type": "stream",
     "text": [
      " 8\n"
     ]
    },
    {
     "name": "stdout",
     "output_type": "stream",
     "text": [
      "Rectangle's area:  56 . Rectangle's circumference:  30 .\n"
     ]
    }
   ],
   "source": [
    "# rectangle:\n",
    "\n",
    "print(\"Choose width:\")\n",
    "width=int(input())\n",
    "\n",
    "print(\"Choose length:\")\n",
    "length=int(input())\n",
    "\n",
    "rec_area=width*length\n",
    "rec_circum=2*(width+length)\n",
    "\n",
    "print(\"Rectangle's area: \", rec_area, \". Rectangle's circumference: \", rec_circum, \".\")"
   ]
  },
  {
   "cell_type": "code",
   "execution_count": 3,
   "id": "6de7adf9-81e8-40ba-acea-e2d0511722ab",
   "metadata": {},
   "outputs": [
    {
     "name": "stdout",
     "output_type": "stream",
     "text": [
      "Choose radius:\n"
     ]
    },
    {
     "name": "stdin",
     "output_type": "stream",
     "text": [
      " 6\n"
     ]
    },
    {
     "name": "stdout",
     "output_type": "stream",
     "text": [
      "Area:  12.566370614359172 . Circumference:  37.69911184307752 .\n"
     ]
    }
   ],
   "source": [
    "# circle:\n",
    "\n",
    "print(\"Choose radius:\")\n",
    "radius=int(input())\n",
    "\n",
    "π=3.141592653589793\n",
    "\n",
    "circumference=2*π*radius\n",
    "area= π*(radius^2)\n",
    "\n",
    "print(\"Area: \", area, \". Circumference: \", circumference, \".\")\n",
    "\n",
    "\n",
    "circ_circum=2*3.141592653589793*radius\n",
    "circ_area=3.141592653589793*(radius^2)\n",
    "\n"
   ]
  },
  {
   "cell_type": "code",
   "execution_count": 4,
   "id": "1e67a79e-8b5c-4749-9058-73f7884411cc",
   "metadata": {},
   "outputs": [
    {
     "name": "stdout",
     "output_type": "stream",
     "text": [
      "Circle's area:  12.566370614359172 . Circle's circumference:  37.69911184307752 .\n"
     ]
    }
   ],
   "source": [
    "print(\"Circle's area: \", circ_area, \". Circle's circumference: \", circ_circum, \".\")"
   ]
  }
 ],
 "metadata": {
  "kernelspec": {
   "display_name": "Python 3 (ipykernel)",
   "language": "python",
   "name": "python3"
  },
  "language_info": {
   "codemirror_mode": {
    "name": "ipython",
    "version": 3
   },
   "file_extension": ".py",
   "mimetype": "text/x-python",
   "name": "python",
   "nbconvert_exporter": "python",
   "pygments_lexer": "ipython3",
   "version": "3.12.7"
  }
 },
 "nbformat": 4,
 "nbformat_minor": 5
}
