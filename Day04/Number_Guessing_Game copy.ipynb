{
 "cells": [
  {
   "cell_type": "code",
   "execution_count": 2,
   "id": "fc17c11f-138b-4cd0-bcd4-def65496cc74",
   "metadata": {},
   "outputs": [
    {
     "name": "stdout",
     "output_type": "stream",
     "text": [
      "                                  INSTRUCTIONS                                               MENU     \n",
      "The game will generate a secret number and you will have to guess it.                  |New Game -- n|\n",
      "The game only recieves the MENU key bindings and the numbers 1 to 20 as an input.      |Hint ------ h|\n",
      "Your goal is to use the the minimum amount of attempts you possibly can.               |Cheat ----- s|\n",
      "                                                                                       |Exit ------ x|\n",
      "~~~~~~~~~~~~~~~~~~~~~~~~~~~~~~~~~~GAME STARTED~~~~~~~~~~~~~~~~~~~~~~~~~~~~~~~~~~\n"
     ]
    },
    {
     "name": "stdin",
     "output_type": "stream",
     "text": [
      " 10\n"
     ]
    },
    {
     "name": "stdout",
     "output_type": "stream",
     "text": [
      "Too big. Try again.\n",
      "\n"
     ]
    },
    {
     "name": "stdin",
     "output_type": "stream",
     "text": [
      " 5\n"
     ]
    },
    {
     "name": "stdout",
     "output_type": "stream",
     "text": [
      "Too small. Try again.\n",
      "\n"
     ]
    },
    {
     "name": "stdin",
     "output_type": "stream",
     "text": [
      " 8\n"
     ]
    },
    {
     "name": "stdout",
     "output_type": "stream",
     "text": [
      "Too big. Try again.\n",
      "\n"
     ]
    },
    {
     "name": "stdin",
     "output_type": "stream",
     "text": [
      " 7\n"
     ]
    },
    {
     "name": "stdout",
     "output_type": "stream",
     "text": [
      "ExAcTlY.\n",
      "YoU WoN!\n",
      "\n",
      "                                    SUMMARY\n",
      "                                   Attempts: 4 \n",
      "                                   Hints:    0 \n",
      "\n"
     ]
    },
    {
     "name": "stdin",
     "output_type": "stream",
     "text": [
      "Would you like to start a new game? type 'yes' or 'no': no\n"
     ]
    },
    {
     "name": "stdout",
     "output_type": "stream",
     "text": [
      "                                 x GAME  OVER x\n"
     ]
    }
   ],
   "source": [
    "import random\n",
    "\n",
    "def input_receiver():\n",
    "    return input().strip().lower()\n",
    "\n",
    "\n",
    "def number_generator():\n",
    "    return random.randint(1, 20)\n",
    "    \n",
    "\n",
    "def main():\n",
    "\n",
    "    menu=['x', 's', 'n', 'h']\n",
    "    user_input=0\n",
    "    attempts=0\n",
    "    hint=0\n",
    "    number=number_generator()\n",
    "    \n",
    "        \n",
    "    print(\"                                  INSTRUCTIONS                                               MENU     \\nThe game will generate a secret number and you will have to guess it.                  |New Game -- n|\\nThe game only recieves the MENU key bindings and the numbers 1 to 20 as an input.      |Hint ------ h|\\nYour goal is to use the the minimum amount of attempts you possibly can.               |Cheat ----- s|\\n                                                                                       |Exit ------ x|\\n~~~~~~~~~~~~~~~~~~~~~~~~~~~~~~~~~~GAME STARTED~~~~~~~~~~~~~~~~~~~~~~~~~~~~~~~~~~\")\n",
    "\n",
    "    \n",
    "    while user_input!='x':\n",
    "        \n",
    "        user_input=input_receiver()\n",
    "\n",
    "        \n",
    "        if user_input in menu:\n",
    "           \n",
    "            if user_input=='n':\n",
    "                print(\"                                   -NEW GAME-\\n\")\n",
    "                \n",
    "            elif user_input=='h':\n",
    "                if hint==0:\n",
    "                    print(\"The number is larger then\", number-random.randint(3,6),\".\\n*First hint costs you 2 attempts.*\\n\")\n",
    "                    attempts+=2\n",
    "                elif hint==1:\n",
    "                    print(\"The number is smaller then\", number+random.randint(3,6),\".\\n*Second hint costs you 1 attempt.*\\n\")\n",
    "                    attempts+=1\n",
    "                elif hint==2:\n",
    "                    print(\"The number is between\", number-random.randint(1,3),\"and\", number+random.randint(1,3), \".\\n*Third hint costs you 1 attempt.*\\n\")\n",
    "                    attempts+=1\n",
    "                elif hint>2:\n",
    "                    print(\"You used all of your hints already.\")\n",
    "                hint+=1\n",
    "            \n",
    "            elif user_input=='s':\n",
    "                print(f\"The number is {number}.\\n                              *WINNERS never quit*\\n                            *and QUITTERS never win*\\n\")\n",
    "                print(\"                                   -NEW GAME-\\n\")\n",
    "                main()\n",
    "                \n",
    "            elif user_input=='x':\n",
    "                print(\"                                 x GAME  OVER x\")\n",
    "                exit()\n",
    "                \n",
    "\n",
    "        elif user_input.isdigit()==True:\n",
    "\n",
    "            if 1<=int(user_input)<=20:\n",
    "                attempts+=1\n",
    "                \n",
    "                if int(user_input)<number and int(user_input)>0:\n",
    "                    print(\"Too small. Try again.\\n\")\n",
    "        \n",
    "                elif number<int(user_input):\n",
    "                    print(\"Too big. Try again.\\n\")\n",
    "        \n",
    "                elif number==int(user_input):\n",
    "                    print(\"ExAcTlY.\\nYoU WoN!\\n\")\n",
    "                    print(\"                                    SUMMARY\\n                                   Attempts:\", attempts,\"\\n                                   Hints:   \", hint,\"\\n\")\n",
    "                    new_game=input(\"Would you like to start a new game? type 'yes' or 'no':\").strip().lower()\n",
    "                    if new_game=='yes':\n",
    "                        print(\"                                   -NEW GAME-\\n\")\n",
    "                        main()\n",
    "                    else:\n",
    "                        print(\"                                 x GAME  OVER x\")\n",
    "                        break  \n",
    "            else:\n",
    "                print(\"The game only recieves the MENU key bindings and the numbers 1 to 20 as an input. Try again.\")\n",
    "\n",
    "        else:\n",
    "            print(\"The game only recieves the MENU key bindings and the numbers 1 to 20 as an input. Try again.\")\n",
    "\n",
    "if __name__ == '__main__':\n",
    "    main()"
   ]
  }
 ],
 "metadata": {
  "kernelspec": {
   "display_name": "Python 3 (ipykernel)",
   "language": "python",
   "name": "python3"
  },
  "language_info": {
   "codemirror_mode": {
    "name": "ipython",
    "version": 3
   },
   "file_extension": ".py",
   "mimetype": "text/x-python",
   "name": "python",
   "nbconvert_exporter": "python",
   "pygments_lexer": "ipython3",
   "version": "3.12.7"
  }
 },
 "nbformat": 4,
 "nbformat_minor": 5
}
