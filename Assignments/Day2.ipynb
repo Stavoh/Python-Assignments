{
 "cells": [
  {
   "cell_type": "code",
   "execution_count": null,
   "id": "36202e7c-602b-43e4-98c7-3496d5d657b7",
   "metadata": {},
   "outputs": [],
   "source": [
    "## Assignment 2c\n",
    "\n",
    "# Create a Jupyter Notebook that has 3 variables width and length of a rectangle and the radius of a circle. Print out the area and circumference of both. (day2.ipynb)"
   ]
  },
  {
   "cell_type": "code",
   "execution_count": 1,
   "id": "c08fdbb6-341c-49f9-8205-dd2a53906f6d",
   "metadata": {},
   "outputs": [
    {
     "name": "stdout",
     "output_type": "stream",
     "text": [
      "Rectangle's area:  108 . Rectangle's circumference:  42 .\n"
     ]
    }
   ],
   "source": [
    "# rectangle:\n",
    "width=9\n",
    "length=12\n",
    "\n",
    "rec_area=width*length\n",
    "rec_circum=2*(width+length)\n",
    "\n",
    "print(\"Rectangle's area: \", rec_area, \". Rectangle's circumference: \", rec_circum, \".\")"
   ]
  },
  {
   "cell_type": "code",
   "execution_count": 7,
   "id": "6de7adf9-81e8-40ba-acea-e2d0511722ab",
   "metadata": {},
   "outputs": [],
   "source": [
    "# circle:\n",
    "radius=11\n",
    "\n",
    "circ_circum=2*3.141592653589793*radius\n",
    "circ_area=3.141592653589793*(radius^2)\n",
    "\n"
   ]
  },
  {
   "cell_type": "code",
   "execution_count": 9,
   "id": "1e67a79e-8b5c-4749-9058-73f7884411cc",
   "metadata": {},
   "outputs": [
    {
     "name": "stdout",
     "output_type": "stream",
     "text": [
      "Circle's area:  28.274333882308138 . Circle's circumference:  69.11503837897544 .\n"
     ]
    }
   ],
   "source": [
    "print(\"Circle's area: \", circ_area, \". Circle's circumference: \", circ_circum, \".\")"
   ]
  },
  {
   "cell_type": "code",
   "execution_count": null,
   "id": "fde00b82-fba3-45e8-8772-cb5789526e0d",
   "metadata": {},
   "outputs": [],
   "source": []
  }
 ],
 "metadata": {
  "kernelspec": {
   "display_name": "Python 3 (ipykernel)",
   "language": "python",
   "name": "python3"
  },
  "language_info": {
   "codemirror_mode": {
    "name": "ipython",
    "version": 3
   },
   "file_extension": ".py",
   "mimetype": "text/x-python",
   "name": "python",
   "nbconvert_exporter": "python",
   "pygments_lexer": "ipython3",
   "version": "3.12.7"
  }
 },
 "nbformat": 4,
 "nbformat_minor": 5
}
